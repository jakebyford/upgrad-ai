{
  "nbformat": 4,
  "nbformat_minor": 0,
  "metadata": {
    "colab": {
      "provenance": []
    },
    "kernelspec": {
      "name": "python3",
      "display_name": "Python 3"
    },
    "language_info": {
      "name": "python"
    }
  },
  "cells": [
    {
      "cell_type": "code",
      "source": [
        "!pip install gensim nltk"
      ],
      "metadata": {
        "colab": {
          "base_uri": "https://localhost:8080/"
        },
        "id": "WLZqDc3InP6M",
        "outputId": "e9cf779b-543d-4d7d-d736-1694c5acec1d"
      },
      "execution_count": null,
      "outputs": [
        {
          "output_type": "stream",
          "name": "stdout",
          "text": [
            "Requirement already satisfied: gensim in /usr/local/lib/python3.10/dist-packages (4.3.3)\n",
            "Requirement already satisfied: nltk in /usr/local/lib/python3.10/dist-packages (3.9.1)\n",
            "Requirement already satisfied: numpy<2.0,>=1.18.5 in /usr/local/lib/python3.10/dist-packages (from gensim) (1.26.4)\n",
            "Requirement already satisfied: scipy<1.14.0,>=1.7.0 in /usr/local/lib/python3.10/dist-packages (from gensim) (1.13.1)\n",
            "Requirement already satisfied: smart-open>=1.8.1 in /usr/local/lib/python3.10/dist-packages (from gensim) (7.0.5)\n",
            "Requirement already satisfied: click in /usr/local/lib/python3.10/dist-packages (from nltk) (8.1.7)\n",
            "Requirement already satisfied: joblib in /usr/local/lib/python3.10/dist-packages (from nltk) (1.4.2)\n",
            "Requirement already satisfied: regex>=2021.8.3 in /usr/local/lib/python3.10/dist-packages (from nltk) (2024.9.11)\n",
            "Requirement already satisfied: tqdm in /usr/local/lib/python3.10/dist-packages (from nltk) (4.66.6)\n",
            "Requirement already satisfied: wrapt in /usr/local/lib/python3.10/dist-packages (from smart-open>=1.8.1->gensim) (1.16.0)\n"
          ]
        }
      ]
    },
    {
      "cell_type": "code",
      "execution_count": null,
      "metadata": {
        "colab": {
          "base_uri": "https://localhost:8080/"
        },
        "id": "yA0nLGVMnMZB",
        "outputId": "61550b01-43c6-4329-91a3-b5033966bec6"
      },
      "outputs": [
        {
          "output_type": "stream",
          "name": "stderr",
          "text": [
            "[nltk_data] Downloading package brown to /root/nltk_data...\n",
            "[nltk_data]   Package brown is already up-to-date!\n"
          ]
        },
        {
          "output_type": "stream",
          "name": "stdout",
          "text": [
            "Vocabulary size: 56057\n",
            "Vector for 'dog': [ 3.98482271e-02  1.67678177e-01  2.82662570e-01  5.51248826e-02\n",
            " -5.83297648e-02 -2.40476310e-01  2.71401435e-01  7.99712598e-01\n",
            " -1.91276684e-01 -3.44949663e-01  2.56561879e-02 -3.95913064e-01\n",
            " -3.01476158e-02 -2.00232983e-01  2.92667598e-01 -2.74441779e-01\n",
            "  8.38595927e-02 -2.61764437e-01 -3.64830375e-01 -4.26464558e-01\n",
            "  2.83075809e-01  5.41708171e-02  3.13230902e-01 -8.15723240e-02\n",
            " -3.00832421e-01 -2.04130765e-02 -3.96149397e-01 -1.66253731e-01\n",
            " -1.99078605e-01  1.96622871e-02  5.10035336e-01 -3.32218915e-01\n",
            "  4.75333810e-01 -3.58355373e-01  1.09565809e-01 -1.13600001e-01\n",
            " -4.98586632e-02 -7.11579919e-02 -1.13000490e-01 -2.40143552e-01\n",
            "  1.31800875e-01 -3.52741569e-01  7.98809379e-02  2.42258310e-01\n",
            "  1.90565273e-01 -6.75688451e-03 -1.07013389e-01  1.57003775e-02\n",
            " -2.62974024e-01  2.92560220e-01  1.00094102e-01 -4.29652452e-01\n",
            " -2.96673954e-01 -1.90626368e-01  6.46571536e-03 -8.14555362e-02\n",
            "  4.43971902e-01 -1.56173468e-01 -4.32673492e-04  1.04167581e-01\n",
            " -2.76243724e-02  1.09025910e-01  1.08598828e-01 -6.67338260e-04\n",
            " -3.05869848e-01  5.26957333e-01  2.82468200e-01  4.54905599e-01\n",
            " -4.63405460e-01  3.62746835e-01  8.84129032e-02  9.33679119e-02\n",
            "  2.81467497e-01  1.94029845e-02  3.33651870e-01  6.46355003e-02\n",
            "  1.68519929e-01  3.05812061e-01 -3.76458079e-01 -1.40703037e-01\n",
            " -3.03531766e-01  2.92927593e-01 -2.56509632e-01  3.51101279e-01\n",
            " -1.34474367e-01 -1.08826727e-01 -6.91301515e-03  1.84533685e-01\n",
            "  2.21557617e-02  5.31345345e-02  5.77493548e-01 -1.70808524e-01\n",
            "  1.53171346e-01  1.44912945e-02  2.82687336e-01  2.33153507e-01\n",
            "  1.46120667e-01 -1.32705197e-01  2.11408697e-02 -8.43696296e-02] $100\n",
            "Most similar words to 'dog': [('plot', 0.962989091873169), ('pool', 0.9585865139961243), ('figure', 0.9575644135475159), ('minister', 0.9555100202560425), ('procedure', 0.9541643857955933)]\n"
          ]
        }
      ],
      "source": [
        "import gensim\n",
        "from gensim.models import Word2Vec\n",
        "from nltk.corpus import brown\n",
        "import nltk\n",
        "\n",
        "# Download the Brown corpus from NLTK\n",
        "nltk.download('brown')\n",
        "\n",
        "# Prepare the corpus\n",
        "sentences = brown.sents()\n",
        "\n",
        "# Train the Word2Vec model\n",
        "model = Word2Vec(sentences, vector_size=100, window=5, min_count=1, workers=4)\n",
        "\n",
        "# Save the model\n",
        "model.save(\"word2vec_brown.model\")\n",
        "\n",
        "# Output the word vectors\n",
        "word_vectors = model.wv\n",
        "\n",
        "# Print the vocabulary size\n",
        "print(f\"Vocabulary size: {len(word_vectors)}\")\n",
        "\n",
        "# Print the vector for a specific word\n",
        "word = \"dog\"\n",
        "if word in word_vectors:\n",
        "    print(f\"Vector for '{word}': {word_vectors[word]} {len(word_vectors[word])}\")\n",
        "else:\n",
        "    print(f\"Word '{word}' not in vocabulary\")\n",
        "\n",
        "# Find the most similar words to a given word\n",
        "similar_words = word_vectors.most_similar(\"dog\", topn=5)\n",
        "print(f\"Most similar words to 'dog': {similar_words}\")\n"
      ]
    }
  ]
}