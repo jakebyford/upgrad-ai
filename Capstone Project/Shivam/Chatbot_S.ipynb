{
 "cells": [
  {
   "cell_type": "code",
   "execution_count": null,
   "id": "462a1318-58d4-4724-94c3-3723164f93e8",
   "metadata": {},
   "outputs": [],
   "source": [
    "# Install dependencies\n",
    "!pip install neo4j langchain-experimental spacy==3.5.2\n",
    "!python -m spacy download en_core_web_sm\n"
   ]
  },
  {
   "cell_type": "code",
   "execution_count": null,
   "id": "782c3a85-e951-49d1-bfea-487f46e85f5a",
   "metadata": {},
   "outputs": [],
   "source": [
    "# Import necessary libraries\n",
    "from IPython.display import display\n",
    "import ipywidgets as widgets\n",
    "from llama_index import (\n",
    "    VectorStoreIndex,\n",
    "    SimpleDirectoryReader,\n",
    "    StorageContext,\n",
    "    ServiceContext,\n",
    "    load_index_from_storage,\n",
    ")\n",
    "from llama_index.embeddings.huggingface import HuggingFaceEmbedding\n",
    "from llama_index.node_parser import SentenceSplitter\n",
    "from llama_index.llms.groq import Groq\n",
    "import warnings\n",
    "import os\n",
    "import csv\n",
    "from neo4j import GraphDatabase\n",
    "import spacy\n"
   ]
  },
  {
   "cell_type": "code",
   "execution_count": null,
   "id": "5630a70f-f475-40a5-a869-3aa945a16fe0",
   "metadata": {},
   "outputs": [],
   "source": [
    "# Ignore warnings\n",
    "warnings.filterwarnings('ignore')\n",
    "\n",
    "# -------------------------------------------\n",
    "# 1. SET UP NEO4J CONNECTION\n",
    "# -------------------------------------------\n",
    "neo4j_uri = \"ENTER URI\"\n",
    "neo4j_user = \"neo4j\"\n",
    "neo4j_password = \"ENTER PASSWORD\"\n",
    "driver = GraphDatabase.driver(neo4j_uri, auth=(neo4j_user, neo4j_password))\n"
   ]
  },
  {
   "cell_type": "code",
   "execution_count": null,
   "id": "4341f7eb-6305-4068-b1fe-550f18f128e1",
   "metadata": {},
   "outputs": [],
   "source": [
    "# -------------------------------------------\n",
    "# 2. ENVIRONMENT VARIABLES\n",
    "# -------------------------------------------\n",
    "os.environ[\"GROQ_API_KEY\"] = \"ENTER YOUR GROQ API KEY\"\n",
    "GROQ_API_KEY = os.getenv(\"GROQ_API_KEY\")\n"
   ]
  },
  {
   "cell_type": "code",
   "execution_count": null,
   "id": "8bcf0b50-f1b4-446e-94cf-e8f64f5ad57b",
   "metadata": {},
   "outputs": [],
   "source": [
    "# -------------------------------------------\n",
    "# 3. PROMPT TEMPLATE\n",
    "# -------------------------------------------\n",
    "prompt_template = \"\"\"\n",
    "Use the following pieces of information to answer the user's question. \n",
    "If you don't know the answer, just say that you don't know. \n",
    "Context: {context}\n",
    "Graph Insights: {graph_insights}\n",
    "Question: {question}\n",
    "\n",
    "Answer the question and provide additional helpful information, based on the pieces of information and graph insights, if applicable. Be succinct.\n",
    "\"\"\"\n",
    "\n",
    "# Example context\n",
    "context = \"This directory contains multiple documents providing examples and solutions for various programming tasks.\"\n"
   ]
  },
  {
   "cell_type": "code",
   "execution_count": null,
   "id": "9160d20e-be04-4bd5-bada-731315155da2",
   "metadata": {},
   "outputs": [],
   "source": [
    "nlp = spacy.load(\"en_core_web_sm\")\n",
    "\n",
    "\n",
    "def populate_graph(documents, driver, nlp):\n",
    "    \"\"\"\n",
    "    Extract entities (e.g., ORG, PRODUCT) from each document and populate the Neo4j graph.\n",
    "    \"\"\"\n",
    "    with driver.session() as session:\n",
    "        for doc in documents:\n",
    "            doc_text = doc.text\n",
    "            nlp_doc = nlp(doc_text)\n",
    "            concepts = [ent.text for ent in nlp_doc.ents if ent.label_ in (\"ORG\", \"PRODUCT\")]\n",
    "            for concept in concepts:\n",
    "                session.run(\"MERGE (:Concept {name: $concept})\", concept=concept)\n",
    "            for i, concept in enumerate(concepts):\n",
    "                if i + 1 < len(concepts):\n",
    "                    next_concept = concepts[i + 1]\n",
    "                    session.run(\n",
    "                        \"\"\"\n",
    "                        MATCH (c1:Concept {name: $concept}), (c2:Concept {name: $next_concept})\n",
    "                        MERGE (c1)-[:RELATED_TO]->(c2)\n",
    "                        \"\"\",\n",
    "                        concept=concept, next_concept=next_concept\n",
    "                    )\n",
    "\n",
    "populate_graph(documents, driver, nlp)"
   ]
  },
  {
   "cell_type": "code",
   "execution_count": null,
   "id": "ff89def9-ff59-46fb-a640-9b041de691ef",
   "metadata": {},
   "outputs": [],
   "source": [
    "# -------------------------------------------\n",
    "# 6. SPLIT DOCUMENTS INTO NODES\n",
    "# -------------------------------------------\n",
    "text_splitter = SentenceSplitter(chunk_size=1024, chunk_overlap=200)\n",
    "nodes = text_splitter.get_nodes_from_documents(documents, show_progress=True)\n"
   ]
  },
  {
   "cell_type": "code",
   "execution_count": null,
   "id": "cc628b58-35d6-47eb-bca0-f0fb80c842ae",
   "metadata": {},
   "outputs": [],
   "source": [
    "\n",
    "# -------------------------------------------\n",
    "# 7. SET UP EMBEDDINGS & LLM\n",
    "# -------------------------------------------\n",
    "embed_model = HuggingFaceEmbedding(model_name=\"sentence-transformers/all-MiniLM-L6-v2\")\n",
    "llm = Groq(model=\"llama3-70b-8192\", api_key=GROQ_API_KEY)\n",
    "service_context = ServiceContext.from_defaults(embed_model=embed_model, llm=llm)\n"
   ]
  },
  {
   "cell_type": "code",
   "execution_count": null,
   "id": "f9a638e9-4e06-44de-8cde-89768033a286",
   "metadata": {},
   "outputs": [],
   "source": [
    "# -------------------------------------------\n",
    "# 8. BUILD AND PERSIST VECTOR INDEX\n",
    "# -------------------------------------------\n",
    "vector_index = VectorStoreIndex.from_documents(\n",
    "    documents, show_progress=True, service_context=service_context, node_parser=nodes\n",
    ")\n",
    "vector_index.storage_context.persist(persist_dir=\"./storage_mini\")\n",
    "\n",
    "# -------"
   ]
  },
  {
   "cell_type": "code",
   "execution_count": null,
   "id": "ad69ee14-986f-4986-95cf-32daff796c99",
   "metadata": {},
   "outputs": [],
   "source": [
    "storage_context = StorageContext.from_defaults(persist_dir=\"./storage_mini\")\n",
    "index = load_index_from_storage(storage_context, service_context=service_context)\n"
   ]
  },
  {
   "cell_type": "code",
   "execution_count": null,
   "id": "ec741c37-d681-4c7d-afd0-448436ec72ad",
   "metadata": {},
   "outputs": [],
   "source": [
    "query_engine = index.as_query_engine(service_context=service_context)\n"
   ]
  },
  {
   "cell_type": "code",
   "execution_count": null,
   "id": "c7f4ced3-8e7d-4eb1-81d6-39ca75e5b741",
   "metadata": {},
   "outputs": [],
   "source": [
    "# -------------------------------------------\n",
    "# 11. QUERY ENHANCEMENT WITH NEO4J\n",
    "# -------------------------------------------\n",
    "def get_graph_insights(question):\n",
    "    \"\"\"\n",
    "    Fetch related concepts from Neo4j that match user query keywords.\n",
    "    \"\"\"\n",
    "    with driver.session() as session:\n",
    "        result = session.run(\n",
    "            \"\"\"\n",
    "            MATCH (c:Concept)\n",
    "            WHERE toLower(c.name) CONTAINS toLower($question)\n",
    "            OPTIONAL MATCH (c)-[r:RELATED_TO]->(other:Concept)\n",
    "            RETURN c.name AS concept, collect(other.name) AS related_concepts\n",
    "            \"\"\",\n",
    "            question=question\n",
    "        )\n",
    "        insights = [\n",
    "            f\"Concept: {record['concept']}, Related Concepts: {', '.join(record['related_concepts'])}\"\n",
    "            for record in result\n",
    "        ]\n",
    "        return \"\\n\".join(insights) if insights else \"No relevant graph insights found.\"\n"
   ]
  },
  {
   "cell_type": "code",
   "execution_count": null,
   "id": "20c3b735-71a1-4f38-992b-61715a7b0518",
   "metadata": {},
   "outputs": [],
   "source": [
    "# -------------------------------------------\n",
    "# 12. SET UP FEEDBACK DATA STRUCTURES\n",
    "# -------------------------------------------\n",
    "last_question = None\n",
    "last_response = None\n",
    "\n",
    "feedback_csv_path = \"feedback_log.csv\"\n",
    "if not os.path.isfile(feedback_csv_path):\n",
    "    with open(feedback_csv_path, \"w\", newline=\"\") as f:\n",
    "        writer = csv.writer(f)\n",
    "        writer.writerow([\"question\", \"response\", \"rating\"])\n"
   ]
  },
  {
   "cell_type": "code",
   "execution_count": null,
   "id": "06a71f8d-1dab-4b99-bc22-07fb58234236",
   "metadata": {},
   "outputs": [],
   "source": [
    "# -------------------------------------------\n",
    "# 13. BUILD THE UI WIDGETS\n",
    "# -------------------------------------------\n",
    "input_box = widgets.Text(\n",
    "    value='Explain Python?',\n",
    "    placeholder='Type your question here',\n",
    "    description='Question:',\n",
    "    disabled=False\n",
    ")\n",
    "output_area = widgets.Output()\n",
    "feedback_output = widgets.Output()\n",
    "\n",
    "rating_slider = widgets.IntSlider(\n",
    "    value=3, min=1, max=5, step=1, description='Rating:', style={'description_width': 'initial'}\n",
    ")\n",
    "feedback_button = widgets.Button(\n",
    "    description='Submit Feedback', disabled=False, button_style='', tooltip='Submit your feedback rating', icon='thumbs-up'\n",
    ")"
   ]
  },
  {
   "cell_type": "code",
   "execution_count": null,
   "id": "d91f11b1-009c-4718-8085-aa33ab04e416",
   "metadata": {},
   "outputs": [],
   "source": [
    "# -------------------------------------------\n",
    "# 14. CALLBACK FUNCTIONS\n",
    "# -------------------------------------------\n",
    "def on_button_click(_):\n",
    "    global last_question, last_response\n",
    "    with output_area:\n",
    "        output_area.clear_output()\n",
    "        question = input_box.value\n",
    "        graph_insights = get_graph_insights(question)\n",
    "        query_prompt = prompt_template.format(context=context, graph_insights=graph_insights, question=question)\n",
    "        resp = query_engine.query(query_prompt)\n",
    "        print(resp.response)\n",
    "        last_question = question\n",
    "        last_response = resp.response\n",
    "\n",
    "def on_feedback_click(_):\n",
    "    global last_question, last_response\n",
    "    with feedback_output:\n",
    "        feedback_output.clear_output()\n",
    "        if not last_question or not last_response:\n",
    "            print(\"No recent question/response to rate. Please ask a question first.\")\n",
    "            return\n",
    "        rating_value = rating_slider.value\n",
    "        with open(feedback_csv_path, \"a\", newline=\"\") as f:\n",
    "            writer = csv.writer(f)\n",
    "            writer.writerow([last_question, last_response, rating_value])\n",
    "        print(f\"Feedback recorded for question: '{last_question}' with rating: {rating_value}\")\n",
    "\n",
    "ask_button = widgets.Button(\n",
    "    description='Ask', disabled=False, button_style='', tooltip='Ask the question', icon='check'\n",
    ")\n",
    "ask_button.on_click(on_button_click)\n",
    "feedback_button.on_click(on_feedback_click)\n"
   ]
  },
  {
   "cell_type": "code",
   "execution_count": null,
   "id": "18ca84cd-43f1-485f-a885-6440087c4bf0",
   "metadata": {},
   "outputs": [],
   "source": [
    "\n",
    "# -------------------------------------------\n",
    "# 15. DISPLAY THE UI\n",
    "# -------------------------------------------\n",
    "display(input_box, ask_button, output_area)\n",
    "display(rating_slider, feedback_button, feedback_output)"
   ]
  },
  {
   "cell_type": "code",
   "execution_count": null,
   "id": "2a9e5ff6-9977-4006-a9dd-30a38cda119b",
   "metadata": {},
   "outputs": [],
   "source": []
  }
 ],
 "metadata": {
  "kernelspec": {
   "display_name": "Python 3 (ipykernel)",
   "language": "python",
   "name": "python3"
  },
  "language_info": {
   "codemirror_mode": {
    "name": "ipython",
    "version": 3
   },
   "file_extension": ".py",
   "mimetype": "text/x-python",
   "name": "python",
   "nbconvert_exporter": "python",
   "pygments_lexer": "ipython3",
   "version": "3.12.7"
  }
 },
 "nbformat": 4,
 "nbformat_minor": 5
}
