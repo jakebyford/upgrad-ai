{
  "nbformat": 4,
  "nbformat_minor": 0,
  "metadata": {
    "colab": {
      "provenance": []
    },
    "kernelspec": {
      "name": "python3",
      "display_name": "Python 3"
    },
    "language_info": {
      "name": "python"
    }
  },
  "cells": [
    {
      "cell_type": "code",
      "source": [
        "!pip install -q langchain faiss-cpu langchain-openai langchain_community"
      ],
      "metadata": {
        "id": "28DjPIwIQslp"
      },
      "execution_count": null,
      "outputs": []
    },
    {
      "cell_type": "code",
      "source": [
        "!pip install --upgrade -q openai==1.55.3"
      ],
      "metadata": {
        "id": "zje_-QezXSYX"
      },
      "execution_count": null,
      "outputs": []
    },
    {
      "cell_type": "code",
      "execution_count": null,
      "metadata": {
        "id": "fe7LKkJJP_GE"
      },
      "outputs": [],
      "source": [
        "import warnings\n",
        "warnings.filterwarnings('ignore')\n",
        "warnings.filterwarnings('ignore', category=DeprecationWarning)\n",
        "import logging\n",
        "logging.basicConfig(level=logging.WARNING)\n",
        "logging.getLogger(\"langchain_community\").setLevel(logging.ERROR)\n",
        "logging.getLogger(\"langchain\").setLevel(logging.ERROR)"
      ]
    },
    {
      "cell_type": "code",
      "source": [
        "import os\n",
        "from langchain.document_loaders import TextLoader\n",
        "from langchain.vectorstores import FAISS\n",
        "from langchain_openai import OpenAIEmbeddings\n",
        "from langchain.chains import RetrievalQA\n",
        "from langchain.chat_models import ChatOpenAI"
      ],
      "metadata": {
        "id": "dlZiWnRpQqer"
      },
      "execution_count": null,
      "outputs": []
    },
    {
      "cell_type": "code",
      "source": [
        "from google.colab import userdata\n",
        "os.environ['OPENAI_API_KEY'] = userdata.get('OPENAI_API_KEY')"
      ],
      "metadata": {
        "id": "jU-5HW_xSi6c"
      },
      "execution_count": null,
      "outputs": []
    },
    {
      "cell_type": "code",
      "source": [
        "embedding_model = OpenAIEmbeddings()"
      ],
      "metadata": {
        "id": "_SFAsGYrRmhZ"
      },
      "execution_count": null,
      "outputs": []
    },
    {
      "cell_type": "code",
      "source": [
        "def fetch_and_load_documents():\n",
        "  dataset_path = './dataset.txt'\n",
        "  if not os.path.exist(dataset_path):\n",
        "    os.makedirs(dataset_path, exist_ok=True)\n",
        "\n",
        "    with open(dataset_path, 'w') as f:\n",
        "      f.write(\n",
        "          \"AI is transforming industries like healthcare and finance.\\n\"\n",
        "          \"Artificial Intelligence helps automate repetitive tasks.\\n\"\n",
        "          \"AI application includes natural language processing.\\n\"\n",
        "          \"Deep Learning has advanced AI significance in recent years.\\n\"\n",
        "          \"AI raises ethical concerns, including bias and privacy issues.\\n\"\n",
        "      )"
      ],
      "metadata": {
        "id": "r1BEuNgDSR6f"
      },
      "execution_count": null,
      "outputs": []
    },
    {
      "cell_type": "code",
      "source": [
        "def create_faiss_index(documents):\n",
        "  print(\"Creating FAISS Index...\")\n",
        "  vector_db = FAISS.from_documents(documents, embedding_model)\n",
        "  vector_db.save_local(\"faiss_indexes/vector_store_retriver\")\n",
        "  print(\"FAISS Index created and saved locally\")\n",
        "  return vector_db"
      ],
      "metadata": {
        "id": "3iuG7nKvUsBC"
      },
      "execution_count": null,
      "outputs": []
    },
    {
      "cell_type": "code",
      "source": [
        "def similarity_search(vector_db, query, k=3):\n",
        "  print(\"Performing similiraty search...\")\n",
        "  similar_docs = vector_db.as_retriever(search_type=\"similarity\", search_kwargs={\"k\": k}).get_relevant_documents(query)\n",
        "  return similar_docs"
      ],
      "metadata": {
        "id": "B0yc4aJiUxmv"
      },
      "execution_count": null,
      "outputs": []
    },
    {
      "cell_type": "code",
      "source": [
        "print(\"Starting Basic RAG Demo\")\n",
        "documents = fetch_and_load_documents()\n",
        "vector_db = create_faiss_index(documents)\n",
        "query = \"How does AI help industries?\"\n",
        "similar_docs = similarity_search(vector_db, query, k=3)\n",
        "for i, doc in enumerate(similar_docs):\n",
        "  print(f\"Result {i+1}: {doc.page_content}\")"
      ],
      "metadata": {
        "colab": {
          "base_uri": "https://localhost:8080/",
          "height": 349
        },
        "id": "iGHWmekhV2OW",
        "outputId": "09ce0bc4-c601-4bbe-b963-3bbec9dd59d4"
      },
      "execution_count": null,
      "outputs": [
        {
          "output_type": "stream",
          "name": "stdout",
          "text": [
            "Starting Basic RAG Demo\n"
          ]
        },
        {
          "output_type": "error",
          "ename": "AttributeError",
          "evalue": "module 'posixpath' has no attribute 'exist'",
          "traceback": [
            "\u001b[0;31m---------------------------------------------------------------------------\u001b[0m",
            "\u001b[0;31mAttributeError\u001b[0m                            Traceback (most recent call last)",
            "\u001b[0;32m<ipython-input-16-e1d0cac8f9e0>\u001b[0m in \u001b[0;36m<cell line: 2>\u001b[0;34m()\u001b[0m\n\u001b[1;32m      1\u001b[0m \u001b[0mprint\u001b[0m\u001b[0;34m(\u001b[0m\u001b[0;34m\"Starting Basic RAG Demo\"\u001b[0m\u001b[0;34m)\u001b[0m\u001b[0;34m\u001b[0m\u001b[0;34m\u001b[0m\u001b[0m\n\u001b[0;32m----> 2\u001b[0;31m \u001b[0mdocuments\u001b[0m \u001b[0;34m=\u001b[0m \u001b[0mfetch_and_load_documents\u001b[0m\u001b[0;34m(\u001b[0m\u001b[0;34m)\u001b[0m\u001b[0;34m\u001b[0m\u001b[0;34m\u001b[0m\u001b[0m\n\u001b[0m\u001b[1;32m      3\u001b[0m \u001b[0mvector_db\u001b[0m \u001b[0;34m=\u001b[0m \u001b[0mcreate_faiss_index\u001b[0m\u001b[0;34m(\u001b[0m\u001b[0mdocuments\u001b[0m\u001b[0;34m)\u001b[0m\u001b[0;34m\u001b[0m\u001b[0;34m\u001b[0m\u001b[0m\n\u001b[1;32m      4\u001b[0m \u001b[0mquery\u001b[0m \u001b[0;34m=\u001b[0m \u001b[0;34m\"How does AI help industries?\"\u001b[0m\u001b[0;34m\u001b[0m\u001b[0;34m\u001b[0m\u001b[0m\n\u001b[1;32m      5\u001b[0m \u001b[0msimilar_docs\u001b[0m \u001b[0;34m=\u001b[0m \u001b[0msimilarity_search\u001b[0m\u001b[0;34m(\u001b[0m\u001b[0mvector_db\u001b[0m\u001b[0;34m,\u001b[0m \u001b[0mquery\u001b[0m\u001b[0;34m,\u001b[0m \u001b[0mk\u001b[0m\u001b[0;34m=\u001b[0m\u001b[0;36m3\u001b[0m\u001b[0;34m)\u001b[0m\u001b[0;34m\u001b[0m\u001b[0;34m\u001b[0m\u001b[0m\n",
            "\u001b[0;32m<ipython-input-13-72ebab758730>\u001b[0m in \u001b[0;36mfetch_and_load_documents\u001b[0;34m()\u001b[0m\n\u001b[1;32m      1\u001b[0m \u001b[0;32mdef\u001b[0m \u001b[0mfetch_and_load_documents\u001b[0m\u001b[0;34m(\u001b[0m\u001b[0;34m)\u001b[0m\u001b[0;34m:\u001b[0m\u001b[0;34m\u001b[0m\u001b[0;34m\u001b[0m\u001b[0m\n\u001b[1;32m      2\u001b[0m   \u001b[0mdataset_path\u001b[0m \u001b[0;34m=\u001b[0m \u001b[0;34m'./dataset.txt'\u001b[0m\u001b[0;34m\u001b[0m\u001b[0;34m\u001b[0m\u001b[0m\n\u001b[0;32m----> 3\u001b[0;31m   \u001b[0;32mif\u001b[0m \u001b[0;32mnot\u001b[0m \u001b[0mos\u001b[0m\u001b[0;34m.\u001b[0m\u001b[0mpath\u001b[0m\u001b[0;34m.\u001b[0m\u001b[0mexist\u001b[0m\u001b[0;34m(\u001b[0m\u001b[0mdataset_path\u001b[0m\u001b[0;34m)\u001b[0m\u001b[0;34m:\u001b[0m\u001b[0;34m\u001b[0m\u001b[0;34m\u001b[0m\u001b[0m\n\u001b[0m\u001b[1;32m      4\u001b[0m     \u001b[0mos\u001b[0m\u001b[0;34m.\u001b[0m\u001b[0mmakedirs\u001b[0m\u001b[0;34m(\u001b[0m\u001b[0mdataset_path\u001b[0m\u001b[0;34m,\u001b[0m \u001b[0mexist_ok\u001b[0m\u001b[0;34m=\u001b[0m\u001b[0;32mTrue\u001b[0m\u001b[0;34m)\u001b[0m\u001b[0;34m\u001b[0m\u001b[0;34m\u001b[0m\u001b[0m\n\u001b[1;32m      5\u001b[0m \u001b[0;34m\u001b[0m\u001b[0m\n",
            "\u001b[0;31mAttributeError\u001b[0m: module 'posixpath' has no attribute 'exist'"
          ]
        }
      ]
    }
  ]
}